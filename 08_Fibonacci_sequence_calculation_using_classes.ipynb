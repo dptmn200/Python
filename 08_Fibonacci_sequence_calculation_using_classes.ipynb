{
 "cells": [
  {
   "cell_type": "markdown",
   "metadata": {},
   "source": [
    "## Fibonacci Sequence\n",
    "\n",
    "1. In this section, we will write a class 'Fibonacci' whose constructor takes two numbers. The class uses these two numbers as first two numbsers\n",
    "\n",
    "2. The class will have a method calculate(n) that returns the nth number in the sequence\n",
    "\n",
    "3. A method next() will be created. The first all to next() returns the first number int he sequence, the second call returns the second number and so on. (create instance variables to save state between calls)\n",
    "\n",
    "4. Finally, a method writeToFile(n,filename), that writes the first n numbers in the sequence to the file named filename, one number per line.\n",
    "\n",
    "Note: Store previously computed Fibonacci numbers instead of recomputing every one as they are needed\n",
    "\n"
   ]
  },
  {
   "cell_type": "code",
   "execution_count": 1,
   "metadata": {
    "collapsed": true
   },
   "outputs": [],
   "source": [
    "## Creating a class to calculate Fibonacci series\n",
    "\n",
    "class Fibonacci:\n",
    "    def __init__(self, first, second):\n",
    "        if isinstance(first,int): ## Check if the first input is an int\n",
    "            if isinstance(second,int): ## Check if the second input is an int\n",
    "                self.n = 0 \n",
    "                self.first = first\n",
    "                self.second = second\n",
    "                self.fibs = {first,second}\n",
    "            else:\n",
    "                raise ValueError('Second input is not an int') ## Raise ValueError \n",
    "        else:\n",
    "            raise ValueError('First input is not an int') ## Raise ValueError\n",
    "    \n",
    "    def next(self):\n",
    "        x = self.calculate(self.n)\n",
    "        self.n += 1\n",
    "        return x\n",
    "                \n",
    "    def calculate(self, n):\n",
    "        a,b = self.first, self.second\n",
    "        for i in range(n):\n",
    "            a,b = b,a+b\n",
    "            self.fibs.add(a)\n",
    "        return a\n",
    "        \n",
    "    def writeToFile(self, n, filename):\n",
    "        self.calculate(n)\n",
    "        with open(filename, 'w') as f:\n",
    "            f.write(str(sorted(self.fibs)[:n]))\n",
    "        "
   ]
  },
  {
   "cell_type": "code",
   "execution_count": 2,
   "metadata": {
    "collapsed": false
   },
   "outputs": [
    {
     "name": "stdout",
     "output_type": "stream",
     "text": [
      "True\n",
      "True\n",
      "True\n",
      "True\n",
      "True\n",
      "True\n",
      "True\n",
      "True\n"
     ]
    }
   ],
   "source": [
    "#Testing code, should all equal print true\n",
    "fib = Fibonacci(0,1)\n",
    "\n",
    "print fib.calculate(0) == 0\n",
    "print fib.calculate(1) == 1\n",
    "print fib.calculate(2) == 1\n",
    "print fib.calculate(3) == 2\n",
    "print fib.calculate(20) == 6765 \n",
    "print fib.next() == fib.calculate(0)\n",
    "print fib.next() == fib.calculate(1)\n",
    "print fib.next() == fib.calculate(2)\n",
    "fib.writeToFile(30, \"fib.out\")"
   ]
  },
  {
   "cell_type": "code",
   "execution_count": null,
   "metadata": {
    "collapsed": true
   },
   "outputs": [],
   "source": []
  }
 ],
 "metadata": {
  "kernelspec": {
   "display_name": "Python 2",
   "language": "python",
   "name": "python2"
  },
  "language_info": {
   "codemirror_mode": {
    "name": "ipython",
    "version": 2
   },
   "file_extension": ".py",
   "mimetype": "text/x-python",
   "name": "python",
   "nbconvert_exporter": "python",
   "pygments_lexer": "ipython2",
   "version": "2.7.10"
  }
 },
 "nbformat": 4,
 "nbformat_minor": 0
}
