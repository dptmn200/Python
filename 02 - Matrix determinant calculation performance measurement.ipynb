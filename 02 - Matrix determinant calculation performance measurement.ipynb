{
 "cells": [
  {
   "cell_type": "markdown",
   "metadata": {},
   "source": [
    "Compare the performance of built in determinant calculation function and a function built using for loop:"
   ]
  },
  {
   "cell_type": "code",
   "execution_count": 1,
   "metadata": {
    "collapsed": false
   },
   "outputs": [
    {
     "name": "stdout",
     "output_type": "stream",
     "text": [
      "   det_using_builtin  det_using_for itermethod\n",
      "0           0.592035       0.539425          8\n",
      "1           5.190415       4.872520          9\n",
      "2          49.417866      49.948059         10\n"
     ]
    },
    {
     "data": {
      "text/plain": [
       "<matplotlib.axes._subplots.AxesSubplot at 0x108e0fe10>"
      ]
     },
     "execution_count": 1,
     "metadata": {},
     "output_type": "execute_result"
    },
    {
     "data": {
      "image/png": "[encoded data removed]",
      "text/plain": [
       "<matplotlib.figure.Figure at 0x108e0f6d0>"
      ]
     },
     "metadata": {},
     "output_type": "display_data"
    }
   ],
   "source": [
    "from copy import deepcopy\n",
    "import math\n",
    "import time\n",
    "import numpy as np\n",
    "\n",
    "# Function to calculate determinant using for loop:\n",
    "def det_using_for(X):\n",
    "    term_list = []\n",
    "    if len(X)>2: #Check if the determinant has larger than 2x2\n",
    "        for j in xrange(0,len(X)):\n",
    "            new_x = deepcopy(X)\n",
    "            XY= np.delete(new_x,0,0) # Remove the first row\n",
    "            YZ = np.delete(XY,j,1) # Remove the jth column\n",
    "            multiplier = X[0][j] * math.pow(-1,(2+j)) # Calculate the multiplier\n",
    "            det = det_using_for(YZ) # call det_using_for recursively to calculate det\n",
    "            term_list.append(multiplier*det)\n",
    "        return sum(term_list)\n",
    "    else:\n",
    "        return(X[0][0]*X[1][1] - X[0][1]*X[1][0])\n",
    "    \n",
    "\n",
    "# Function to calculate determinant using builtin function\n",
    "def det_using_builtin(X):\n",
    "    return np.linalg.det(X)\n",
    "\n",
    "\n",
    "# Define size of each matrix\n",
    "size = [8,9,10]\n",
    "\n",
    "# Calculate time taken for determinant calculation using 'for loop method'\n",
    "det_method1 = []\n",
    "det_iter_method1 =[]\n",
    "for i in size:\n",
    "    t1=time.time()\n",
    "    X = np.random.uniform(size = (i,i))\n",
    "    det_using_for(X)\n",
    "    t2=time.time()\n",
    "    det_method1.append(t2-t1)\n",
    "    det_iter_method1.append(str(i))\n",
    "    \n",
    "\n",
    "# Calculate the time taken for determinant calculation using 'built in function'\n",
    "det_method2 = []\n",
    "for i in size:\n",
    "    t3=time.time()\n",
    "    X = np.random.uniform(size = (i,i))\n",
    "    det_using_for(X)\n",
    "    t4=time.time()\n",
    "    det_method2.append(t4-t3)\n",
    "     \n",
    "        \n",
    "# Plot the graphs to show time taken using each method of determinant calculation\n",
    "import matplotlib\n",
    "%matplotlib inline\n",
    "import pandas as pd\n",
    "\n",
    "data_to_plot_det = {'itermethod':det_iter_method1,\n",
    "                    'det_using_for': det_method1,\n",
    "                    'det_using_builtin': det_method2}\n",
    "data_to_plot_det2 = pd.DataFrame(data_to_plot_det)\n",
    "\n",
    "print data_to_plot_det2\n",
    "\n",
    "data_to_plot_det2.plot(kind='bar', x = 'itermethod', figsize=(15,5))"
   ]
  },
  {
   "cell_type": "code",
   "execution_count": null,
   "metadata": {
    "collapsed": true
   },
   "outputs": [],
   "source": []
  }
 ],
 "metadata": {
  "kernelspec": {
   "display_name": "Python 2",
   "language": "python",
   "name": "python2"
  },
  "language_info": {
   "codemirror_mode": {
    "name": "ipython",
    "version": 2
   },
   "file_extension": ".py",
   "mimetype": "text/x-python",
   "name": "python",
   "nbconvert_exporter": "python",
   "pygments_lexer": "ipython2",
   "version": "2.7.10"
  }
 },
 "nbformat": 4,
 "nbformat_minor": 0
}
