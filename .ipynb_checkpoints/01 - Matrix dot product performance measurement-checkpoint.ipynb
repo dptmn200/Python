{
 "cells": [
  {
   "cell_type": "markdown",
   "metadata": {},
   "source": [
    "Compare the performance of built in dot product function and a function built using for loop:\n"
   ]
  },
  {
   "cell_type": "code",
   "execution_count": 1,
   "metadata": {
    "collapsed": false
   },
   "outputs": [
    {
     "name": "stdout",
     "output_type": "stream",
     "text": [
      "        itermethod  time_using_builtin  time_using_for\n",
      "0  [10, 100, 1000]                0.01           0.758\n",
      "1  [10, 1000, 100]                0.01           0.767\n",
      "2  [100, 10, 1000]                0.00           0.825\n",
      "3  [100, 1000, 10]                0.00           0.735\n",
      "4  [1000, 10, 100]                0.00           0.767\n",
      "5  [1000, 100, 10]                0.00           0.742\n"
     ]
    },
    {
     "data": {
      "image/png": "[encoded data removed]",
      "text/plain": [
       "<matplotlib.figure.Figure at 0xd2ac940>"
      ]
     },
     "metadata": {},
     "output_type": "display_data"
    }
   ],
   "source": [
    "#Import the libraries \n",
    "import numpy as np\n",
    "import scipy as sp\n",
    "import pandas as pd\n",
    "import time\n",
    "from matplotlib import pyplot\n",
    "\n",
    "\n",
    "# Dot product using for loop\n",
    "def using_for(A,B):\n",
    "    C = []\n",
    "    for i in range(i1):\n",
    "        r = []\n",
    "        for k in range(k1):\n",
    "            sum1 = 0\n",
    "            for j in range(j1):\n",
    "                sum1+= int(A[i][j]*B[j][k])\n",
    "            r.append(sum1)\n",
    "        C.append(r)\n",
    "        \n",
    "\n",
    "# Dot product using the numpy builtin function\n",
    "def using_builtin(A,B):    \n",
    "    C = np.dot(A,B)        \n",
    "\n",
    "\n",
    "# Create all possible permutations of the matrix sizes\n",
    "import itertools\n",
    "l= list(itertools.permutations(([10,100,1000]),3))\n",
    "\n",
    "\n",
    "#Note: itertools.product() can be used to get all possible combinations. \n",
    "#Since the big matrices take a long time to run, itertools.permutations() has been used \n",
    "\n",
    "# Measure the time taken to execute all possible iterations using method 1 - 'using for loop'\n",
    "t_method1 =[]\n",
    "iter_method1=[]\n",
    "for i in range(len(l)):\n",
    "    t1=time.time()\n",
    "    a = l[i][0]\n",
    "    b = l[i][1]\n",
    "    c = l[i][2]\n",
    "    X = np.random.uniform(size = (a,b))\n",
    "    Y = np.random.uniform(size = (b,c))\n",
    "    x = X.shape\n",
    "    i1 = x[0]\n",
    "    j1 = x[1]\n",
    "    y = Y.shape\n",
    "    k1 = y[1]\n",
    "    using_for(X,Y)\n",
    "    t2=time.time()\n",
    "    t_method1.append(t2-t1)\n",
    "    iter_method1.append([a,b,c])\n",
    "\n",
    "# Measure the time taken to execute all possible iterations using method 2 - 'using builtin function'\n",
    "t_method2 =[]\n",
    "for i in range(len(l)):\n",
    "    t3=time.time()\n",
    "    a = l[i][0]\n",
    "    b = l[i][1]\n",
    "    c = l[i][2]\n",
    "    X = np.random.uniform(size = (a,b))\n",
    "    Y = np.random.uniform(size = (b,c))\n",
    "    x = X.shape\n",
    "    i1 = x[0]\n",
    "    j1 = x[1]\n",
    "    y = Y.shape\n",
    "    k1 = y[1]\n",
    "    using_builtin(X,Y)\n",
    "    t4=time.time()\n",
    "    t_method2.append(t4-t3)\n",
    "    \n",
    "# Plot the graphs of time taken by each method\n",
    "import matplotlib\n",
    "%matplotlib inline\n",
    "import pandas as pd\n",
    "data_to_plot = {'itermethod':iter_method1,\n",
    "                'time_using_for': t_method1,\n",
    "                'time_using_builtin': t_method2}\n",
    "data_to_plot2 = pd.DataFrame(data_to_plot)\n",
    "print data_to_plot2\n",
    "data_to_plot2.plot(kind='bar', x = 'itermethod',figsize=(15,5))\n",
    "\n",
    "# Plot the time in log scale for the ease of reading\n",
    "pyplot.yscale('log')\n"
   ]
  },
  {
   "cell_type": "code",
   "execution_count": null,
   "metadata": {
    "collapsed": true
   },
   "outputs": [],
   "source": []
  }
 ],
 "metadata": {
  "kernelspec": {
   "display_name": "Python 2",
   "language": "python",
   "name": "python2"
  },
  "language_info": {
   "codemirror_mode": {
    "name": "ipython",
    "version": 2
   },
   "file_extension": ".py",
   "mimetype": "text/x-python",
   "name": "python",
   "nbconvert_exporter": "python",
   "pygments_lexer": "ipython2",
   "version": "2.7.10"
  }
 },
 "nbformat": 4,
 "nbformat_minor": 0
}
