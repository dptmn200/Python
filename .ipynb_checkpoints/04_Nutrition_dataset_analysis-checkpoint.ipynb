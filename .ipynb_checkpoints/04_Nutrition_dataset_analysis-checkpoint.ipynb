{
 "cells": [
  {
   "cell_type": "markdown",
   "metadata": {},
   "source": [
    "The purpose of this exercise is to analyze the nutrition dataset and generate insights. We will follow the following steps for the same:\n",
    "\n",
    "1. Download the data from http://ashleyw.co.uk/files/foods-2011-10-03.json.zip This dataset is a compilation of data provided by the US department of Agriculture. The data set contains data for 6,636 unique foods and 94 unique nutrients (with an average of 56.5 nutrients per food)\n",
    "2. Use the built in python json module to load the food data into a python list\n",
    "3. Once you load the data, you will have a list of 6636 python dictionaries, each containing nutritional information for a different food item. Each dictionary will have the following keys:\n",
    "    + portions\n",
    "    + description\n",
    "    + tags\n",
    "    + nutrients\n",
    "    + group\n",
    "    + id\n",
    "    + manufacture\n",
    "4. create a DataFrame of meta_data using the description, group, id, and manufacturer items in each dictionary.\n",
    "5. Loop over db and construct a list of DataFrames containing the nutritional information for each record in db. Make sure to add a column to each of these DataFrames that contains the unique food id (id key in the dictionary)\n",
    "6. Use the pandas combining techniques to create a nutrients DataFrame. After you have done this drop duplicate entries in this DataFrame. \n",
    "7. Use the rename method to make sure that the description and group columns are un-ambiguous for both the meta_data DataFrame and the nutrients DataFrame (These column names are duplicated because every food has a description and group and each nutrient also has those identifiers).\n",
    "8. Use the data combining routines to come up with a foods DataFrame containing all the meta_data and nutritional information. Make sure to do an outer style merge on the correct columns.\n",
    "9. Using the foods DataFrame, compute the following things:\n",
    "    + The food item with the highest content of each nutrient.\n",
    "    + A function that accepts a nutrient name and a quantile value and generates a horizontal bar plot of the amount of that nutrient in each food group. Provide a plot title. HINT: You will need to use the quantile and sort (or order ) methods in order for this to work."
   ]
  },
  {
   "cell_type": "code",
   "execution_count": null,
   "metadata": {
    "collapsed": true
   },
   "outputs": [],
   "source": [
    "# Change directory to access data\n",
    "%cd ~/Documents/DSE/dmysoren/DSE200/data"
   ]
  },
  {
   "cell_type": "code",
   "execution_count": null,
   "metadata": {
    "collapsed": true
   },
   "outputs": [],
   "source": [
    "## Use the built in python json module to load the food data into a python list\n",
    "\n",
    "import json \n",
    "db = json.load(open('foods-2011-10-03.json'))"
   ]
  },
  {
   "cell_type": "code",
   "execution_count": null,
   "metadata": {
    "collapsed": true
   },
   "outputs": [],
   "source": [
    "## Now, create a DataFrame of meta_data using the description, group, id, and manufacturer items in each dictionary.\n",
    "import pandas as pd\n",
    "\n",
    "col_name = ['description', 'group', 'id', 'manufacturer']\n",
    "meta_data = pd.DataFrame(db, columns=col_name)\n",
    "\n",
    "meta_data.head(5)\n"
   ]
  },
  {
   "cell_type": "code",
   "execution_count": null,
   "metadata": {
    "collapsed": true
   },
   "outputs": [],
   "source": [
    "## Loop over db and construct a list of DataFrames containing the nutritional information for each record in db. \n",
    "## Make sure to add a column to each of these DataFrames that contains the unique food id (id key in the dictionary)\n",
    "\n",
    "\n",
    "get_list = []\n",
    "\n",
    "for rec in db:\n",
    "    temp = pd.DataFrame(rec['nutrients'])\n",
    "    temp['id'] = rec['id']\n",
    "    get_list.append(temp)\n",
    "\n",
    "# Print sample data\n",
    "get_list[1]"
   ]
  },
  {
   "cell_type": "code",
   "execution_count": null,
   "metadata": {
    "collapsed": true
   },
   "outputs": [],
   "source": [
    "## Finally, use the pandas combining techniques to create a nutrients DataFrame. \n",
    "## After you have done this drop duplicate entries in this DataFrame. \n",
    "\n",
    "\n",
    "## Using 'concat' to create nutrients DataFrame\n",
    "nutrients=pd.concat(get_list)\n",
    "\n",
    "## Drop duplicate entries\n",
    "nutrients.drop_duplicates(inplace = True)\n",
    "\n",
    "\n",
    "## Use the rename method to make sure that the description and group columns are un-ambiguous for both  \n",
    "## the meta_data DataFrame and the nutrients DataFrame (These column names are duplicated because every \n",
    "## food has a description and group and each nutrient also has those identifiers).\n",
    "\n",
    "# Rename columns to avoide ambiguity\n",
    "meta_data.rename(columns = {'description':'food_description'}, inplace = True)\n",
    "meta_data.rename(columns = {'group':'food_group'}, inplace = True)\n",
    "\n",
    "print \"Sample of meta_data dataframe: \\n\"\n",
    "print meta_data.head(5)\n",
    "print '\\n'\n",
    "\n",
    "nutrients.rename(columns = {'description':'comp_description'}, inplace = True)\n",
    "nutrients.rename(columns = {'group':'comp_group'}, inplace = True)\n",
    "\n",
    "print \"Sample of nutrients dataframe: \\n\"\n",
    "print nutrients.head(5)"
   ]
  },
  {
   "cell_type": "code",
   "execution_count": null,
   "metadata": {
    "collapsed": true
   },
   "outputs": [],
   "source": [
    "#Finally, use the data combining routines to come up with a foods DataFrame containing all the meta_data and nutritional \n",
    "#information. Make sure to do an outer style merge on the correct columns.\n",
    "\n",
    "foods = pd.merge(nutrients, meta_data, left_on='id', right_on='id', how='outer')\n",
    "\n",
    "\n",
    "# Print sample food data\n",
    "foods.head(5)"
   ]
  },
  {
   "cell_type": "code",
   "execution_count": null,
   "metadata": {
    "collapsed": true
   },
   "outputs": [],
   "source": [
    "# Using the foods DataFrame you have been building, compute the following things:\n",
    "# 1. The food item with the highest content of each nutrient.\n",
    "\n",
    "high_nutr = foods.sort('value',ascending=False).groupby('comp_description', as_index = False).first()\n",
    "# Note: The output provides one example of a product with max value in case of multiple items with same value.\n",
    "\n",
    "# If there is a use case to have all the food items with equal values, we can use tranform and output all possible outputs\n",
    "\n",
    "# Displaying 15 rows only just to keep the notebook smaller\n",
    "high_nutr.reset_index().head(15)"
   ]
  },
  {
   "cell_type": "code",
   "execution_count": null,
   "metadata": {
    "collapsed": true
   },
   "outputs": [],
   "source": [
    "# 2. A function that accepts a nutrient name and a quantile value and generates \n",
    "# a horizontal bar plot of the amount of that nutrient in each food group. \n",
    "# Provide a plot title. HINT: You will need to use the quantile and sort (or order ) methods in order for this to work.\n",
    "\n",
    "\n",
    "def nut_quant(nut,quant):\n",
    "    quant = foods.groupby(['comp_description', 'food_group'])['value'].quantile(quant)\n",
    "    quant[nut].order().plot(kind='barh', figsize = (15,8))\n",
    "\n",
    "\n",
    "# Input a nutrient Eg: Water, Protein, Vitamin D and a quantile - a number less than 1\n",
    "nut_quant('Protein',0.5)"
   ]
  }
 ],
 "metadata": {
  "kernelspec": {
   "display_name": "Python 2",
   "language": "python",
   "name": "python2"
  },
  "language_info": {
   "codemirror_mode": {
    "name": "ipython",
    "version": 2
   },
   "file_extension": ".py",
   "mimetype": "text/x-python",
   "name": "python",
   "nbconvert_exporter": "python",
   "pygments_lexer": "ipython2",
   "version": "2.7.10"
  }
 },
 "nbformat": 4,
 "nbformat_minor": 0
}
